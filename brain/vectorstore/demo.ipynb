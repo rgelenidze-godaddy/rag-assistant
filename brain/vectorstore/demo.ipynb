{
 "cells": [
  {
   "cell_type": "code",
   "id": "initial_id",
   "metadata": {
    "collapsed": true,
    "ExecuteTime": {
     "end_time": "2025-05-05T21:20:16.603222Z",
     "start_time": "2025-05-05T21:20:16.598154Z"
    }
   },
   "source": [
    "from brain.vectorstore import connection\n",
    "\n",
    "# Load environment variables from .env.example file (from parent directory)\n",
    "from brain import settings\n",
    "\n",
    "conn = connection.get_connection()"
   ],
   "outputs": [],
   "execution_count": 3
  },
  {
   "metadata": {
    "ExecuteTime": {
     "end_time": "2025-05-05T21:22:20.346015Z",
     "start_time": "2025-05-05T21:22:20.329429Z"
    }
   },
   "cell_type": "code",
   "source": "conn.get_collection(\"documents_collection\").points_count",
   "id": "63f03eea57d89b3c",
   "outputs": [
    {
     "data": {
      "text/plain": [
       "78"
      ]
     },
     "execution_count": 19,
     "metadata": {},
     "output_type": "execute_result"
    }
   ],
   "execution_count": 19
  }
 ],
 "metadata": {
  "kernelspec": {
   "display_name": "Python 3",
   "language": "python",
   "name": "python3"
  },
  "language_info": {
   "codemirror_mode": {
    "name": "ipython",
    "version": 2
   },
   "file_extension": ".py",
   "mimetype": "text/x-python",
   "name": "python",
   "nbconvert_exporter": "python",
   "pygments_lexer": "ipython2",
   "version": "2.7.6"
  }
 },
 "nbformat": 4,
 "nbformat_minor": 5
}
