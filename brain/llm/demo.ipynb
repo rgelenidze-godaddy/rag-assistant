{
 "cells": [
  {
   "cell_type": "code",
   "id": "initial_id",
   "metadata": {
    "collapsed": true,
    "ExecuteTime": {
     "end_time": "2025-05-04T14:12:16.957895Z",
     "start_time": "2025-05-04T14:12:15.426796Z"
    }
   },
   "source": [
    "from brain.llm import instance\n",
    "\n",
    "# Get the LLM singleton instance\n",
    "llm = instance.get_instance()\n",
    "\n",
    "response = llm.invoke(\"Hello, AI!\")\n",
    "\n",
    "print(\"Response:\", response.content)"
   ],
   "outputs": [
    {
     "name": "stdout",
     "output_type": "stream",
     "text": [
      "Response: Hello there! How can I help you today?\n"
     ]
    }
   ],
   "execution_count": 1
  }
 ],
 "metadata": {
  "kernelspec": {
   "display_name": "Python 3",
   "language": "python",
   "name": "python3"
  },
  "language_info": {
   "codemirror_mode": {
    "name": "ipython",
    "version": 2
   },
   "file_extension": ".py",
   "mimetype": "text/x-python",
   "name": "python",
   "nbconvert_exporter": "python",
   "pygments_lexer": "ipython2",
   "version": "2.7.6"
  }
 },
 "nbformat": 4,
 "nbformat_minor": 5
}
